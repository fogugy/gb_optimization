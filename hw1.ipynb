{
 "cells": [
  {
   "cell_type": "markdown",
   "metadata": {},
   "source": [
    "Целевая функция будет простой суммой стоимостей подключения каждого компьютера:\n",
    "\n",
    "$ F(.)=\\sum_{i=1}^C cost(CS_i) + \\sum_{i=1}^R cost(R_iS)\\sum_{j=1}^c cost(C_iR_j) + R*cost(R) $"
   ]
  },
  {
   "cell_type": "markdown",
   "metadata": {},
   "source": [
    "CS - расстояние от компьютера до сервера  \n",
    "CR - расстояние от компьютера до ближайшего роутера  \n",
    "RS - расстояние от роутера до сервера  \n",
    "C - количество компьютеров  \n",
    "с - кол-во компьютеров для роутера  \n",
    "R - количество роутеров"
   ]
  },
  {
   "cell_type": "code",
   "execution_count": 1,
   "metadata": {},
   "outputs": [],
   "source": [
    "import numpy as np\n",
    "import math\n",
    "import matplotlib.pyplot as plt"
   ]
  },
  {
   "cell_type": "code",
   "execution_count": 2,
   "metadata": {},
   "outputs": [],
   "source": [
    "price_opt = 12\n",
    "price_el = 30\n",
    "price_router = 1500\n",
    "\n",
    "n_comps = 500\n",
    "n_routers = math.ceil(n_comps/8)"
   ]
  },
  {
   "cell_type": "markdown",
   "metadata": {},
   "source": [
    "Теперь сгенерируем набор значений для разных положений роутера и общей длины соединения"
   ]
  },
  {
   "cell_type": "code",
   "execution_count": 3,
   "metadata": {},
   "outputs": [
    {
     "data": {
      "text/plain": [
       "array([10, 11, 12, 13, 14])"
      ]
     },
     "execution_count": 3,
     "metadata": {},
     "output_type": "execute_result"
    }
   ],
   "source": [
    "cs = np.arange(10, 200, 1) # от 10 до 200 метров с шагом 1м\n",
    "cs[:5]"
   ]
  },
  {
   "cell_type": "markdown",
   "metadata": {},
   "source": [
    "рассчитаем 100 контрольных точек cr и rs для каждого cs"
   ]
  },
  {
   "cell_type": "code",
   "execution_count": 4,
   "metadata": {},
   "outputs": [],
   "source": [
    "cr = [np.arange(0, x, x/100) for x in cs]"
   ]
  },
  {
   "cell_type": "code",
   "execution_count": 5,
   "metadata": {},
   "outputs": [],
   "source": [
    "rs = [np.arange(x, 0, -x/100) for x in cs]"
   ]
  },
  {
   "cell_type": "code",
   "execution_count": 6,
   "metadata": {},
   "outputs": [],
   "source": [
    "def calc_cost(cs, i):\n",
    "    pass"
   ]
  },
  {
   "cell_type": "code",
   "execution_count": 7,
   "metadata": {},
   "outputs": [],
   "source": [
    "cost = [cs_i for i, cs_i in enumerate(cs)]"
   ]
  }
 ],
 "metadata": {
  "kernelspec": {
   "display_name": "Python 3",
   "language": "python",
   "name": "python3"
  },
  "language_info": {
   "codemirror_mode": {
    "name": "ipython",
    "version": 3
   },
   "file_extension": ".py",
   "mimetype": "text/x-python",
   "name": "python",
   "nbconvert_exporter": "python",
   "pygments_lexer": "ipython3",
   "version": "3.8.3"
  }
 },
 "nbformat": 4,
 "nbformat_minor": 4
}
