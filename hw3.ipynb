{
 "cells": [
  {
   "cell_type": "markdown",
   "metadata": {},
   "source": [
    "### Задача 1:"
   ]
  },
  {
   "cell_type": "markdown",
   "metadata": {},
   "source": [
    "Сталепрокатное предприятие выпускает стандартные стальные листы размерами 1500×6000 мм.  \n",
    "Ежемесячный объем заказов на листы нестандартных размеров приведён ниже:  \n",
    "500×600 — 3000, 1000×400 — 2000, 1500×1000 — 1500  \n",
    "Необходимо составить ЦФ для нахождения наименее затратного раскроя листов.  "
   ]
  },
  {
   "cell_type": "markdown",
   "metadata": {},
   "source": [
    "$I$ - кол-во способов раскроя  \n",
    "$J$ - кол-во изделий  \n",
    "$a_{i}$ - остаток при i-м раскрое  \n",
    "$x_{i}$ - кол-во листов i-го раскроя  \n",
    "$y_{j}$ - кол-во листов j-го размера  "
   ]
  },
  {
   "cell_type": "markdown",
   "metadata": {},
   "source": [
    "$ y_{1} = a_{11}x_{1} + ... + a_{I1}x_I = 3000 $  \n",
    "$ y_{2} = a_{12}x_{1} + ... + a_{I2}x_I = 2000 $  \n",
    "$ y_{3} = a_{13}x_{1} + ... + a_{I3}x_I = 1500 $  "
   ]
  },
  {
   "cell_type": "markdown",
   "metadata": {},
   "source": [
    "$ \\sum_{i=1}^{I} x_{i}a_{i} \\rightarrow min $"
   ]
  },
  {
   "cell_type": "markdown",
   "metadata": {},
   "source": [
    "### Задача 2:"
   ]
  },
  {
   "cell_type": "markdown",
   "metadata": {},
   "source": [
    "Пусть есть компания, занимающаяся доставкой Belivery Club.  \n",
    "Есть $N$ зон, в которых есть спрос на курьеров в каждый час. Внутри дня в разные часы спрос различен. Каждой зоне $i$ в час $h$  необходимо необходимо $ n_{hi} $ курьеров. Для каждой зоны есть штраф из-за недостаточно 1 курьера - $s_i$. Так же у каждого курьера  есть предпочтения относительно часов и зон работы. Необходимо распределить $M$ курьеров таким образом, чтобы суммарный штраф был  минимальный.  \n",
    "(описать формулу в общем случае, т.е. без каких-либо числовых данных)"
   ]
  },
  {
   "cell_type": "markdown",
   "metadata": {},
   "source": [
    "$ x_{ih}^k = 1 $, если $k$-курьер работает в час $h$ в $i$ зоне"
   ]
  },
  {
   "cell_type": "markdown",
   "metadata": {},
   "source": [
    "$ y_{ih}^k = 1 $, если $k$-курьер предпочитает работать в час $h$ в $i$ зоне"
   ]
  },
  {
   "cell_type": "markdown",
   "metadata": {},
   "source": [
    "Введем так же \"бонус\" за работу в нежелательной зоне или нехорошее время $b_{hi}$"
   ]
  },
  {
   "cell_type": "markdown",
   "metadata": {},
   "source": [
    "$ g_{ih} = \\sum_{k=1}^{M} x_{ih}^k - n_{ih} $ - функция недостатка курьеров в зоне в час"
   ]
  },
  {
   "cell_type": "markdown",
   "metadata": {},
   "source": [
    "$ l_{ih} = \\begin{cases} 0, \\space если \\space g_{ih} >0 \\\\\n",
    "b_{ih} * g_{ih}, в\\spaceпротивном\\spaceслучае. \\end {cases}$"
   ]
  },
  {
   "cell_type": "markdown",
   "metadata": {},
   "source": [
    "$ f_{ih} = \\begin{cases} 0, \\space если \\space g_{ih} >0 \\\\\n",
    "s_i * g_{ih}, в\\spaceпротивном\\spaceслучае. \\end {cases}$"
   ]
  },
  {
   "cell_type": "markdown",
   "metadata": {},
   "source": [
    "$ \\sum_{i=1}^{N} \\sum_{h=1}^{24} (f_{ih}+l_{ih}) \\rightarrow min $"
   ]
  },
  {
   "cell_type": "code",
   "execution_count": null,
   "metadata": {},
   "outputs": [],
   "source": []
  }
 ],
 "metadata": {
  "kernelspec": {
   "display_name": "Python 3",
   "language": "python",
   "name": "python3"
  },
  "language_info": {
   "codemirror_mode": {
    "name": "ipython",
    "version": 3
   },
   "file_extension": ".py",
   "mimetype": "text/x-python",
   "name": "python",
   "nbconvert_exporter": "python",
   "pygments_lexer": "ipython3",
   "version": "3.6.2"
  }
 },
 "nbformat": 4,
 "nbformat_minor": 4
}
