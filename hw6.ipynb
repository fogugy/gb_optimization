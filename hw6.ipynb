{
 "cells": [
  {
   "cell_type": "markdown",
   "metadata": {},
   "source": [
    "Для выполнения работ P_1, P_2, P_3 сельскохозяйственное предприятие может приобрести тракторы марок А и B стоимостью соответственно c_1 и c_2 ден. ед. каждый. С использованием новой техники необходимо выполнить не менее b_1 условных единиц работы P_1 не менее b_2 условных единиц работы P_2 и не менее b_3 условных единиц работы P_3. За рассматриваемый промежуток времени с использованием трактора марки A можно выполнить a_11 условных единиц работы P_1, a_21 условных единиц работы P_2 и a_31 условных единиц работы P_3; с использованием трактора марки Б – a_12 условных единиц работы P_1, a_22 условных единиц работы P_2 и a_23 условных единиц работы P_3.\n",
    "\n",
    "Требуется:\n",
    "\n",
    "Составить экономико-математическую модель, позволяющую найти такой вариант приобретения тракторов той или другой марки, при котором будут выполнены все необходимые работы, а затраты на новую технику будут минимальны;\n",
    "Пользуясь методом ветвей и границ, найти оптимальный вариант приобретения тракторов.\n",
    "\n",
    "b_1 = 20, b_2 = 190, b_3 = 88, a_11 = 4, a_21 = 19, a_31=4, a_12 = 1, a_22 = 15, a_32 = 15, c_1= 3, c_2 = 5"
   ]
  },
  {
   "cell_type": "markdown",
   "metadata": {},
   "source": [
    "Целевая функция:  \n",
    "$ f(A, B) = A*c_1 + B*c_2 \\rightarrow min $\n",
    "\n",
    "Ограничение снизу:  \n",
    "$ A*(a_{11}P_1 + a_{21}P_2 + a_{31}P_3) + B*(a_{12}P_1 + a_{22}P_2 + a_{32}P_3) >= b_1 P_1 + b_2 P_2 + b_3 P_3 $  "
   ]
  },
  {
   "cell_type": "markdown",
   "metadata": {},
   "source": [
    "$ A*(4 P_1 + 19 P_2 + 4 P_3) + B*(P_1 + 15 P_2 + 15 P_3) >= 20 P_1 + 190 P_2 + 88 P_3 $  \n",
    "\n",
    "\n",
    "$ 4 A P_1 + B P_1 >= 20 P_1 $  \n",
    "$ 19 A P_2 + 15 B P_2 >= 190 P_2 $  \n",
    "$ 4 A P_3 + 15 B P_3 >= 88 P_3 $  \n",
    "\n",
    "$ 4 A + B >= 20 $  \n",
    "$ 19 A + 15 B >= 190 $  \n",
    "$ 4 A + 15 B >= 88 $"
   ]
  },
  {
   "cell_type": "code",
   "execution_count": 16,
   "metadata": {},
   "outputs": [],
   "source": [
    "def check(a, b):\n",
    "    return 4*a+b>=20, 19*a+15*b>=190, 4*a+15*b>=88, a*3+b*5"
   ]
  },
  {
   "cell_type": "markdown",
   "metadata": {},
   "source": [
    "Решив систему:  \n",
    "$ A=11.3, B=2.86 $  \n",
    "$ f_{max} = 48.2 $"
   ]
  },
  {
   "cell_type": "markdown",
   "metadata": {},
   "source": [
    "Логично округлить $ A = 12, B = 3 , f_{max} = 51 $"
   ]
  },
  {
   "cell_type": "code",
   "execution_count": 34,
   "metadata": {},
   "outputs": [
    {
     "data": {
      "text/plain": [
       "(True, True, True, 51)"
      ]
     },
     "execution_count": 34,
     "metadata": {},
     "output_type": "execute_result"
    }
   ],
   "source": [
    "check(12, 3)"
   ]
  },
  {
   "cell_type": "markdown",
   "metadata": {},
   "source": [
    "**Подзадача 1:**  \n",
    "A = 11, B = 3"
   ]
  },
  {
   "cell_type": "code",
   "execution_count": 35,
   "metadata": {},
   "outputs": [
    {
     "data": {
      "text/plain": [
       "(True, True, True, 48)"
      ]
     },
     "execution_count": 35,
     "metadata": {},
     "output_type": "execute_result"
    }
   ],
   "source": [
    "check(11, 3)"
   ]
  },
  {
   "cell_type": "markdown",
   "metadata": {},
   "source": [
    "Найдено новое лучшее значение $ f_{max}=48 $"
   ]
  },
  {
   "cell_type": "markdown",
   "metadata": {},
   "source": [
    "**Подзадача 2:**  \n",
    "A = 12, B = 2"
   ]
  },
  {
   "cell_type": "code",
   "execution_count": 38,
   "metadata": {},
   "outputs": [
    {
     "data": {
      "text/plain": [
       "(True, True, False, 46)"
      ]
     },
     "execution_count": 38,
     "metadata": {},
     "output_type": "execute_result"
    }
   ],
   "source": [
    "check(12, 2)"
   ]
  },
  {
   "cell_type": "markdown",
   "metadata": {},
   "source": [
    "не выполнено условие 4𝐴+15𝐵>=88"
   ]
  },
  {
   "cell_type": "markdown",
   "metadata": {},
   "source": [
    "**Подзадача 1.1:**  \n",
    "A = 10, B = 3"
   ]
  },
  {
   "cell_type": "code",
   "execution_count": 40,
   "metadata": {},
   "outputs": [
    {
     "data": {
      "text/plain": [
       "(True, True, False, 45)"
      ]
     },
     "execution_count": 40,
     "metadata": {},
     "output_type": "execute_result"
    }
   ],
   "source": [
    "check(10, 3)"
   ]
  },
  {
   "cell_type": "markdown",
   "metadata": {},
   "source": [
    "не выполнено условие 4𝐴+15𝐵>=88"
   ]
  },
  {
   "cell_type": "markdown",
   "metadata": {},
   "source": [
    "**Подзадача 1.2:**  \n",
    "A = 11, B = 2"
   ]
  },
  {
   "cell_type": "code",
   "execution_count": 41,
   "metadata": {},
   "outputs": [
    {
     "data": {
      "text/plain": [
       "(True, True, False, 43)"
      ]
     },
     "execution_count": 41,
     "metadata": {},
     "output_type": "execute_result"
    }
   ],
   "source": [
    "check(11, 2)"
   ]
  },
  {
   "cell_type": "markdown",
   "metadata": {},
   "source": [
    "не выполнено условие 4𝐴+15𝐵>=88"
   ]
  },
  {
   "cell_type": "markdown",
   "metadata": {},
   "source": [
    "Дерево решений кончилось. Найденное лучшее значение $ A = 11, B = 3, 𝑓=48 $"
   ]
  }
 ],
 "metadata": {
  "kernelspec": {
   "display_name": "Python 3",
   "language": "python",
   "name": "python3"
  },
  "language_info": {
   "codemirror_mode": {
    "name": "ipython",
    "version": 3
   },
   "file_extension": ".py",
   "mimetype": "text/x-python",
   "name": "python",
   "nbconvert_exporter": "python",
   "pygments_lexer": "ipython3",
   "version": "3.6.2"
  }
 },
 "nbformat": 4,
 "nbformat_minor": 4
}
